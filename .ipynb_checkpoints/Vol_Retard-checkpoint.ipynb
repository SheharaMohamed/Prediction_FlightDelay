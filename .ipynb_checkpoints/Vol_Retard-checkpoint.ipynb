version https://git-lfs.github.com/spec/v1
oid sha256:5cb88b27e6b502714c7e78fa24a18be9b40d8e1b10aa8d9e51c0b76a697e3501
size 81743300
